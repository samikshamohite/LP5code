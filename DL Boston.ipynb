{
 "cells": [
  {
   "cell_type": "markdown",
   "metadata": {
    "_uuid": "a40153021c15eb45ff2026d456945763c79c11ef"
   },
   "source": [
    "# Boston house price prediction"
   ]
  },
  {
   "cell_type": "markdown",
   "metadata": {
    "_uuid": "8731c498e69012e3b8e407399ab813f0f15fc732"
   },
   "source": [
    "The problem that we are going to solve here is that given a set of features that describe a house in Boston, our machine learning model must predict the house price. To train our machine learning model with boston housing data, we will be using scikit-learn’s boston dataset.\n",
    "\n",
    "In this dataset, each row describes a boston town or suburb. There are 506 rows and 13 attributes (features) with a target column (price).\n",
    "https://archive.ics.uci.edu/ml/machine-learning-databases/housing/housing.names"
   ]
  },
  {
   "cell_type": "code",
   "execution_count": 1,
   "metadata": {
    "_uuid": "c72424fcefad6b27f904bdc3301ff272baf3b212"
   },
   "outputs": [],
   "source": [
    "# Importing the libraries \n",
    "import pandas as pd\n",
    "import numpy as np\n",
    "from sklearn import metrics\n",
    "import matplotlib.pyplot as plt\n",
    "import seaborn as sns\n",
    "%matplotlib inline"
   ]
  },
  {
   "cell_type": "code",
   "execution_count": 2,
   "metadata": {},
   "outputs": [],
   "source": [
    "import pandas as pd\n",
    "import numpy as np\n",
    "from tensorflow import keras\n",
    "from sklearn.model_selection import train_test_split\n",
    "\n",
    "# Load the data from a CSV file\n",
    "import pandas as pd\n",
    "df = pd.read_csv(\"bostonHousing.csv\")"
   ]
  },
  {
   "cell_type": "markdown",
   "metadata": {
    "_uuid": "45b04cfb9bfc68cfab0ebf412ad402bac6fc5343"
   },
   "source": [
    "CRIM per capita crime rate by town <br>\n",
    "ZN proportion of residential land zoned for lots over 25,000 sq.ft. <br>\n",
    "INDUS proportion of non-retail business acres per town <br>\n",
    "CHAS Charles River dummy variable (= 1 if tract bounds river; 0 otherwise) <br>\n",
    "NOX nitric oxides concentration (parts per 10 million) <br>\n",
    "RM average number of rooms per dwelling <br>\n",
    "AGE proportion of owner-occupied units built prior to 1940 <br>\n",
    "DIS weighted distances to five Boston employment centres <br>\n",
    "RAD index of accessibility to radial highways <br>\n",
    "TAX full-value property-tax rate per 10,000usd <br>\n",
    "PTRATIO pupil-teacher ratio by town <br>\n",
    "B 1000(Bk - 0.63)^2 where Bk is the proportion of blacks by town <br>\n",
    "LSTAT % lower status of the population <br>"
   ]
  },
  {
   "cell_type": "markdown",
   "metadata": {
    "_uuid": "d16fdd57c4ee58a812935d5a3e1f4bfe5923e23e"
   },
   "source": [
    "Each record in the database describes a Boston suburb or town."
   ]
  },
  {
   "cell_type": "code",
   "execution_count": 4,
   "metadata": {
    "_uuid": "b5edd7daea054f44df78e956846596fd9e82274f"
   },
   "outputs": [
    {
     "data": {
      "text/plain": [
       "(506, 14)"
      ]
     },
     "execution_count": 4,
     "metadata": {},
     "output_type": "execute_result"
    }
   ],
   "source": [
    "#Check the shape of dataframe\n",
    "df.shape"
   ]
  },
  {
   "cell_type": "code",
   "execution_count": 5,
   "metadata": {
    "_uuid": "264fd03458b3b349d2d52ac02b83e2e85b6190b2"
   },
   "outputs": [
    {
     "data": {
      "text/plain": [
       "Index(['crim', 'zn', 'indus', 'chas', 'nox', 'rm', 'age', 'dis', 'rad', 'tax',\n",
       "       'ptratio', 'b', 'lstat', 'medv'],\n",
       "      dtype='object')"
      ]
     },
     "execution_count": 5,
     "metadata": {},
     "output_type": "execute_result"
    }
   ],
   "source": [
    "df.columns"
   ]
  },
  {
   "cell_type": "code",
   "execution_count": 6,
   "metadata": {
    "_uuid": "1a745ede36d316c539a7c8d53ced27b9ccae85b2"
   },
   "outputs": [
    {
     "data": {
      "text/plain": [
       "crim       float64\n",
       "zn         float64\n",
       "indus      float64\n",
       "chas         int64\n",
       "nox        float64\n",
       "rm         float64\n",
       "age        float64\n",
       "dis        float64\n",
       "rad          int64\n",
       "tax          int64\n",
       "ptratio    float64\n",
       "b          float64\n",
       "lstat      float64\n",
       "medv       float64\n",
       "dtype: object"
      ]
     },
     "execution_count": 6,
     "metadata": {},
     "output_type": "execute_result"
    }
   ],
   "source": [
    "df.dtypes"
   ]
  },
  {
   "cell_type": "code",
   "execution_count": 7,
   "metadata": {
    "_uuid": "e86b006860c2efe29294aca3ba4419d9c758ced2"
   },
   "outputs": [
    {
     "data": {
      "text/plain": [
       "crim       504\n",
       "zn          26\n",
       "indus       76\n",
       "chas         2\n",
       "nox         81\n",
       "rm         446\n",
       "age        356\n",
       "dis        412\n",
       "rad          9\n",
       "tax         66\n",
       "ptratio     46\n",
       "b          357\n",
       "lstat      455\n",
       "medv       229\n",
       "dtype: int64"
      ]
     },
     "execution_count": 7,
     "metadata": {},
     "output_type": "execute_result"
    }
   ],
   "source": [
    "# Identifying the unique number of values in the dataset\n",
    "df.nunique()"
   ]
  },
  {
   "cell_type": "code",
   "execution_count": 8,
   "metadata": {
    "_uuid": "cef1bbf6ab92b5cd42a9a0771a24f48a09acf218"
   },
   "outputs": [
    {
     "data": {
      "text/plain": [
       "crim       0\n",
       "zn         0\n",
       "indus      0\n",
       "chas       0\n",
       "nox        0\n",
       "rm         0\n",
       "age        0\n",
       "dis        0\n",
       "rad        0\n",
       "tax        0\n",
       "ptratio    0\n",
       "b          0\n",
       "lstat      0\n",
       "medv       0\n",
       "dtype: int64"
      ]
     },
     "execution_count": 8,
     "metadata": {},
     "output_type": "execute_result"
    }
   ],
   "source": [
    "# Check for missing values\n",
    "df.isnull().sum()"
   ]
  },
  {
   "cell_type": "code",
   "execution_count": 9,
   "metadata": {
    "_uuid": "9d77b2f0e188a0bad15574340c61fad981a571b5"
   },
   "outputs": [
    {
     "data": {
      "text/html": [
       "<div>\n",
       "<style scoped>\n",
       "    .dataframe tbody tr th:only-of-type {\n",
       "        vertical-align: middle;\n",
       "    }\n",
       "\n",
       "    .dataframe tbody tr th {\n",
       "        vertical-align: top;\n",
       "    }\n",
       "\n",
       "    .dataframe thead th {\n",
       "        text-align: right;\n",
       "    }\n",
       "</style>\n",
       "<table border=\"1\" class=\"dataframe\">\n",
       "  <thead>\n",
       "    <tr style=\"text-align: right;\">\n",
       "      <th></th>\n",
       "      <th>crim</th>\n",
       "      <th>zn</th>\n",
       "      <th>indus</th>\n",
       "      <th>chas</th>\n",
       "      <th>nox</th>\n",
       "      <th>rm</th>\n",
       "      <th>age</th>\n",
       "      <th>dis</th>\n",
       "      <th>rad</th>\n",
       "      <th>tax</th>\n",
       "      <th>ptratio</th>\n",
       "      <th>b</th>\n",
       "      <th>lstat</th>\n",
       "      <th>medv</th>\n",
       "    </tr>\n",
       "  </thead>\n",
       "  <tbody>\n",
       "  </tbody>\n",
       "</table>\n",
       "</div>"
      ],
      "text/plain": [
       "Empty DataFrame\n",
       "Columns: [crim, zn, indus, chas, nox, rm, age, dis, rad, tax, ptratio, b, lstat, medv]\n",
       "Index: []"
      ]
     },
     "execution_count": 9,
     "metadata": {},
     "output_type": "execute_result"
    }
   ],
   "source": [
    "# See rows with missing values\n",
    "df[df.isnull().any(axis=1)]"
   ]
  },
  {
   "cell_type": "code",
   "execution_count": 10,
   "metadata": {
    "_uuid": "fd9f1bad153f453931265ca2c2662a138a6737b3",
    "scrolled": true
   },
   "outputs": [
    {
     "data": {
      "text/html": [
       "<div>\n",
       "<style scoped>\n",
       "    .dataframe tbody tr th:only-of-type {\n",
       "        vertical-align: middle;\n",
       "    }\n",
       "\n",
       "    .dataframe tbody tr th {\n",
       "        vertical-align: top;\n",
       "    }\n",
       "\n",
       "    .dataframe thead th {\n",
       "        text-align: right;\n",
       "    }\n",
       "</style>\n",
       "<table border=\"1\" class=\"dataframe\">\n",
       "  <thead>\n",
       "    <tr style=\"text-align: right;\">\n",
       "      <th></th>\n",
       "      <th>crim</th>\n",
       "      <th>zn</th>\n",
       "      <th>indus</th>\n",
       "      <th>chas</th>\n",
       "      <th>nox</th>\n",
       "      <th>rm</th>\n",
       "      <th>age</th>\n",
       "      <th>dis</th>\n",
       "      <th>rad</th>\n",
       "      <th>tax</th>\n",
       "      <th>ptratio</th>\n",
       "      <th>b</th>\n",
       "      <th>lstat</th>\n",
       "      <th>medv</th>\n",
       "    </tr>\n",
       "  </thead>\n",
       "  <tbody>\n",
       "    <tr>\n",
       "      <th>count</th>\n",
       "      <td>506.000000</td>\n",
       "      <td>506.000000</td>\n",
       "      <td>506.000000</td>\n",
       "      <td>506.000000</td>\n",
       "      <td>506.000000</td>\n",
       "      <td>506.000000</td>\n",
       "      <td>506.000000</td>\n",
       "      <td>506.000000</td>\n",
       "      <td>506.000000</td>\n",
       "      <td>506.000000</td>\n",
       "      <td>506.000000</td>\n",
       "      <td>506.000000</td>\n",
       "      <td>506.000000</td>\n",
       "      <td>506.000000</td>\n",
       "    </tr>\n",
       "    <tr>\n",
       "      <th>mean</th>\n",
       "      <td>3.613524</td>\n",
       "      <td>11.363636</td>\n",
       "      <td>11.136779</td>\n",
       "      <td>0.069170</td>\n",
       "      <td>0.554695</td>\n",
       "      <td>6.284634</td>\n",
       "      <td>68.574901</td>\n",
       "      <td>3.795043</td>\n",
       "      <td>9.549407</td>\n",
       "      <td>408.237154</td>\n",
       "      <td>18.455534</td>\n",
       "      <td>356.674032</td>\n",
       "      <td>12.653063</td>\n",
       "      <td>22.532806</td>\n",
       "    </tr>\n",
       "    <tr>\n",
       "      <th>std</th>\n",
       "      <td>8.601545</td>\n",
       "      <td>23.322453</td>\n",
       "      <td>6.860353</td>\n",
       "      <td>0.253994</td>\n",
       "      <td>0.115878</td>\n",
       "      <td>0.702617</td>\n",
       "      <td>28.148861</td>\n",
       "      <td>2.105710</td>\n",
       "      <td>8.707259</td>\n",
       "      <td>168.537116</td>\n",
       "      <td>2.164946</td>\n",
       "      <td>91.294864</td>\n",
       "      <td>7.141062</td>\n",
       "      <td>9.197104</td>\n",
       "    </tr>\n",
       "    <tr>\n",
       "      <th>min</th>\n",
       "      <td>0.006320</td>\n",
       "      <td>0.000000</td>\n",
       "      <td>0.460000</td>\n",
       "      <td>0.000000</td>\n",
       "      <td>0.385000</td>\n",
       "      <td>3.561000</td>\n",
       "      <td>2.900000</td>\n",
       "      <td>1.129600</td>\n",
       "      <td>1.000000</td>\n",
       "      <td>187.000000</td>\n",
       "      <td>12.600000</td>\n",
       "      <td>0.320000</td>\n",
       "      <td>1.730000</td>\n",
       "      <td>5.000000</td>\n",
       "    </tr>\n",
       "    <tr>\n",
       "      <th>25%</th>\n",
       "      <td>0.082045</td>\n",
       "      <td>0.000000</td>\n",
       "      <td>5.190000</td>\n",
       "      <td>0.000000</td>\n",
       "      <td>0.449000</td>\n",
       "      <td>5.885500</td>\n",
       "      <td>45.025000</td>\n",
       "      <td>2.100175</td>\n",
       "      <td>4.000000</td>\n",
       "      <td>279.000000</td>\n",
       "      <td>17.400000</td>\n",
       "      <td>375.377500</td>\n",
       "      <td>6.950000</td>\n",
       "      <td>17.025000</td>\n",
       "    </tr>\n",
       "    <tr>\n",
       "      <th>50%</th>\n",
       "      <td>0.256510</td>\n",
       "      <td>0.000000</td>\n",
       "      <td>9.690000</td>\n",
       "      <td>0.000000</td>\n",
       "      <td>0.538000</td>\n",
       "      <td>6.208500</td>\n",
       "      <td>77.500000</td>\n",
       "      <td>3.207450</td>\n",
       "      <td>5.000000</td>\n",
       "      <td>330.000000</td>\n",
       "      <td>19.050000</td>\n",
       "      <td>391.440000</td>\n",
       "      <td>11.360000</td>\n",
       "      <td>21.200000</td>\n",
       "    </tr>\n",
       "    <tr>\n",
       "      <th>75%</th>\n",
       "      <td>3.677083</td>\n",
       "      <td>12.500000</td>\n",
       "      <td>18.100000</td>\n",
       "      <td>0.000000</td>\n",
       "      <td>0.624000</td>\n",
       "      <td>6.623500</td>\n",
       "      <td>94.075000</td>\n",
       "      <td>5.188425</td>\n",
       "      <td>24.000000</td>\n",
       "      <td>666.000000</td>\n",
       "      <td>20.200000</td>\n",
       "      <td>396.225000</td>\n",
       "      <td>16.955000</td>\n",
       "      <td>25.000000</td>\n",
       "    </tr>\n",
       "    <tr>\n",
       "      <th>max</th>\n",
       "      <td>88.976200</td>\n",
       "      <td>100.000000</td>\n",
       "      <td>27.740000</td>\n",
       "      <td>1.000000</td>\n",
       "      <td>0.871000</td>\n",
       "      <td>8.780000</td>\n",
       "      <td>100.000000</td>\n",
       "      <td>12.126500</td>\n",
       "      <td>24.000000</td>\n",
       "      <td>711.000000</td>\n",
       "      <td>22.000000</td>\n",
       "      <td>396.900000</td>\n",
       "      <td>37.970000</td>\n",
       "      <td>50.000000</td>\n",
       "    </tr>\n",
       "  </tbody>\n",
       "</table>\n",
       "</div>"
      ],
      "text/plain": [
       "             crim          zn       indus        chas         nox          rm  \\\n",
       "count  506.000000  506.000000  506.000000  506.000000  506.000000  506.000000   \n",
       "mean     3.613524   11.363636   11.136779    0.069170    0.554695    6.284634   \n",
       "std      8.601545   23.322453    6.860353    0.253994    0.115878    0.702617   \n",
       "min      0.006320    0.000000    0.460000    0.000000    0.385000    3.561000   \n",
       "25%      0.082045    0.000000    5.190000    0.000000    0.449000    5.885500   \n",
       "50%      0.256510    0.000000    9.690000    0.000000    0.538000    6.208500   \n",
       "75%      3.677083   12.500000   18.100000    0.000000    0.624000    6.623500   \n",
       "max     88.976200  100.000000   27.740000    1.000000    0.871000    8.780000   \n",
       "\n",
       "              age         dis         rad         tax     ptratio           b  \\\n",
       "count  506.000000  506.000000  506.000000  506.000000  506.000000  506.000000   \n",
       "mean    68.574901    3.795043    9.549407  408.237154   18.455534  356.674032   \n",
       "std     28.148861    2.105710    8.707259  168.537116    2.164946   91.294864   \n",
       "min      2.900000    1.129600    1.000000  187.000000   12.600000    0.320000   \n",
       "25%     45.025000    2.100175    4.000000  279.000000   17.400000  375.377500   \n",
       "50%     77.500000    3.207450    5.000000  330.000000   19.050000  391.440000   \n",
       "75%     94.075000    5.188425   24.000000  666.000000   20.200000  396.225000   \n",
       "max    100.000000   12.126500   24.000000  711.000000   22.000000  396.900000   \n",
       "\n",
       "            lstat        medv  \n",
       "count  506.000000  506.000000  \n",
       "mean    12.653063   22.532806  \n",
       "std      7.141062    9.197104  \n",
       "min      1.730000    5.000000  \n",
       "25%      6.950000   17.025000  \n",
       "50%     11.360000   21.200000  \n",
       "75%     16.955000   25.000000  \n",
       "max     37.970000   50.000000  "
      ]
     },
     "execution_count": 10,
     "metadata": {},
     "output_type": "execute_result"
    }
   ],
   "source": [
    "# Viewing the data statistics\n",
    "df.describe()"
   ]
  },
  {
   "cell_type": "code",
   "execution_count": 11,
   "metadata": {
    "_uuid": "f35fcf15ca8787f7c2b27c9567e02bec12dd8232"
   },
   "outputs": [
    {
     "data": {
      "text/plain": [
       "(14, 14)"
      ]
     },
     "execution_count": 11,
     "metadata": {},
     "output_type": "execute_result"
    }
   ],
   "source": [
    "# Finding out the correlation between the features\n",
    "corr = df.corr()\n",
    "corr.shape"
   ]
  },
  {
   "cell_type": "code",
   "execution_count": 18,
   "metadata": {
    "_uuid": "8c44aa7df1ef21f85c1baba09dbb5807c223c51a"
   },
   "outputs": [],
   "source": [
    "# Splitting to training and testing data\n",
    "X = df.drop(['medv'], axis=1).values\n",
    "y = df['medv'].values\n",
    "\n",
    "# Split the data into training and testing sets\n",
    "X_train, X_test, y_train, y_test = train_test_split(X, y, test_size=0.2, random_state=42)"
   ]
  },
  {
   "cell_type": "markdown",
   "metadata": {
    "_uuid": "f585ceafa562d74250058bf0ff05cdf8ccebb577"
   },
   "source": [
    "#### Training the model"
   ]
  },
  {
   "cell_type": "code",
   "execution_count": 19,
   "metadata": {
    "_uuid": "74c1df4cd4ba074712c8fe65802acc568e0b6ba9",
    "scrolled": true
   },
   "outputs": [
    {
     "name": "stdout",
     "output_type": "stream",
     "text": [
      "Test loss: 46.19388198852539\n"
     ]
    }
   ],
   "source": [
    "# Create a model with a linear regression layer\n",
    "model = keras.Sequential([\n",
    "    keras.layers.Dense(units=1, input_shape=[13])\n",
    "])\n",
    "\n",
    "# Compile the model with a mean squared error loss function and an optimizer\n",
    "model.compile(loss='mean_squared_error', optimizer='adam')\n",
    "\n",
    "# Train the model on the training data\n",
    "history = model.fit(X_train, y_train, validation_split=0.2, epochs=100, batch_size=10, verbose=0)\n",
    "\n",
    "# Evaluate the model on the testing data\n",
    "test_loss = model.evaluate(X_test, y_test,verbose = 0)\n",
    "\n",
    "# Print the test loss\n",
    "print('Test loss:', test_loss)"
   ]
  },
  {
   "cell_type": "code",
   "execution_count": 21,
   "metadata": {
    "_uuid": "998fb3c39c9a86eb1bcd4d921dd183a6491335d7"
   },
   "outputs": [
    {
     "name": "stdout",
     "output_type": "stream",
     "text": [
      "Model: \"sequential_2\"\n",
      "_________________________________________________________________\n",
      " Layer (type)                Output Shape              Param #   \n",
      "=================================================================\n",
      " dense_1 (Dense)             (None, 128)               1792      \n",
      "                                                                 \n",
      " dense_2 (Dense)             (None, 64)                8256      \n",
      "                                                                 \n",
      " dense_output (Dense)        (None, 1)                 65        \n",
      "                                                                 \n",
      "=================================================================\n",
      "Total params: 10,113\n",
      "Trainable params: 10,113\n",
      "Non-trainable params: 0\n",
      "_________________________________________________________________\n"
     ]
    }
   ],
   "source": [
    "from tensorflow.keras.models import Sequential\n",
    "from tensorflow.keras.layers import Dense\n",
    "\n",
    "model = Sequential()\n",
    "\n",
    "model.add(Dense(128, input_shape=(13, ), activation='relu', name='dense_1'))\n",
    "model.add(Dense(64, activation='relu', name='dense_2'))\n",
    "model.add(Dense(1, activation='linear', name='dense_output'))\n",
    "\n",
    "model.compile(optimizer='adam', loss='mse', metrics=['mae'])\n",
    "model.summary()"
   ]
  },
  {
   "cell_type": "code",
   "execution_count": 22,
   "metadata": {
    "_uuid": "014c51bc46bb492a44f253c3c04e113ddbc39af6"
   },
   "outputs": [
    {
     "name": "stdout",
     "output_type": "stream",
     "text": [
      "Epoch 1/100\n",
      "12/12 [==============================] - 2s 33ms/step - loss: 1438.5416 - mae: 30.2471 - val_loss: 112.2831 - val_mae: 8.0075\n",
      "Epoch 2/100\n",
      "12/12 [==============================] - 0s 9ms/step - loss: 281.9434 - mae: 14.0492 - val_loss: 283.3285 - val_mae: 12.0471\n",
      "Epoch 3/100\n",
      "12/12 [==============================] - 0s 7ms/step - loss: 154.5883 - mae: 9.5178 - val_loss: 149.0560 - val_mae: 10.5914\n",
      "Epoch 4/100\n",
      "12/12 [==============================] - 0s 8ms/step - loss: 99.6238 - mae: 7.7121 - val_loss: 127.2191 - val_mae: 7.5436\n",
      "Epoch 5/100\n",
      "12/12 [==============================] - 0s 9ms/step - loss: 76.1252 - mae: 6.6197 - val_loss: 113.6920 - val_mae: 7.5253\n",
      "Epoch 6/100\n",
      "12/12 [==============================] - 0s 10ms/step - loss: 67.0234 - mae: 5.9858 - val_loss: 103.3165 - val_mae: 7.0104\n",
      "Epoch 7/100\n",
      "12/12 [==============================] - 0s 10ms/step - loss: 63.1241 - mae: 5.8045 - val_loss: 89.9813 - val_mae: 6.4324\n",
      "Epoch 8/100\n",
      "12/12 [==============================] - 0s 11ms/step - loss: 62.2859 - mae: 5.7180 - val_loss: 94.1934 - val_mae: 6.6880\n",
      "Epoch 9/100\n",
      "12/12 [==============================] - 0s 8ms/step - loss: 61.6684 - mae: 5.7620 - val_loss: 102.8004 - val_mae: 6.6993\n",
      "Epoch 10/100\n",
      "12/12 [==============================] - 0s 8ms/step - loss: 60.1966 - mae: 5.6532 - val_loss: 98.8109 - val_mae: 6.8207\n",
      "Epoch 11/100\n",
      "12/12 [==============================] - 0s 7ms/step - loss: 58.1425 - mae: 5.4954 - val_loss: 87.4300 - val_mae: 6.2449\n",
      "Epoch 12/100\n",
      "12/12 [==============================] - 0s 8ms/step - loss: 58.2037 - mae: 5.4266 - val_loss: 81.1231 - val_mae: 6.2969\n",
      "Epoch 13/100\n",
      "12/12 [==============================] - 0s 7ms/step - loss: 55.9452 - mae: 5.4546 - val_loss: 83.9261 - val_mae: 6.1627\n",
      "Epoch 14/100\n",
      "12/12 [==============================] - 0s 8ms/step - loss: 55.2653 - mae: 5.3085 - val_loss: 109.6711 - val_mae: 6.9696\n",
      "Epoch 15/100\n",
      "12/12 [==============================] - 0s 8ms/step - loss: 58.9524 - mae: 5.7198 - val_loss: 112.7102 - val_mae: 7.0301\n",
      "Epoch 16/100\n",
      "12/12 [==============================] - 0s 8ms/step - loss: 55.9601 - mae: 5.3670 - val_loss: 83.6259 - val_mae: 5.9715\n",
      "Epoch 17/100\n",
      "12/12 [==============================] - 0s 8ms/step - loss: 50.3417 - mae: 5.0815 - val_loss: 85.9188 - val_mae: 6.0813\n",
      "Epoch 18/100\n",
      "12/12 [==============================] - 0s 6ms/step - loss: 50.3992 - mae: 5.1299 - val_loss: 85.5699 - val_mae: 5.9761\n",
      "Epoch 19/100\n",
      "12/12 [==============================] - 0s 7ms/step - loss: 50.4419 - mae: 4.9828 - val_loss: 80.7812 - val_mae: 5.8826\n",
      "Epoch 20/100\n",
      "12/12 [==============================] - 0s 8ms/step - loss: 48.9619 - mae: 5.0105 - val_loss: 78.5972 - val_mae: 5.8621\n",
      "Epoch 21/100\n",
      "12/12 [==============================] - 0s 9ms/step - loss: 46.9002 - mae: 4.8869 - val_loss: 84.9599 - val_mae: 6.0548\n",
      "Epoch 22/100\n",
      "12/12 [==============================] - 0s 10ms/step - loss: 47.7437 - mae: 4.9040 - val_loss: 82.6598 - val_mae: 5.8286\n",
      "Epoch 23/100\n",
      "12/12 [==============================] - 0s 9ms/step - loss: 46.7796 - mae: 4.9704 - val_loss: 80.4338 - val_mae: 5.7578\n",
      "Epoch 24/100\n",
      "12/12 [==============================] - 0s 9ms/step - loss: 44.0114 - mae: 4.7484 - val_loss: 76.6706 - val_mae: 5.8832\n",
      "Epoch 25/100\n",
      "12/12 [==============================] - 0s 8ms/step - loss: 44.1426 - mae: 4.7954 - val_loss: 76.8317 - val_mae: 5.5942\n",
      "Epoch 26/100\n",
      "12/12 [==============================] - 0s 8ms/step - loss: 45.2485 - mae: 4.7948 - val_loss: 74.3757 - val_mae: 6.2772\n",
      "Epoch 27/100\n",
      "12/12 [==============================] - 0s 9ms/step - loss: 42.4739 - mae: 4.6819 - val_loss: 66.8242 - val_mae: 5.9791\n",
      "Epoch 28/100\n",
      "12/12 [==============================] - 0s 8ms/step - loss: 44.8035 - mae: 4.7806 - val_loss: 79.8472 - val_mae: 6.1467\n",
      "Epoch 29/100\n",
      "12/12 [==============================] - 0s 8ms/step - loss: 42.0057 - mae: 4.5582 - val_loss: 77.8574 - val_mae: 5.5262\n",
      "Epoch 30/100\n",
      "12/12 [==============================] - 0s 10ms/step - loss: 39.5285 - mae: 4.3735 - val_loss: 76.8200 - val_mae: 5.6454\n",
      "Epoch 31/100\n",
      "12/12 [==============================] - 0s 9ms/step - loss: 38.2026 - mae: 4.3454 - val_loss: 76.7259 - val_mae: 5.8885\n",
      "Epoch 32/100\n",
      "12/12 [==============================] - 0s 9ms/step - loss: 39.2773 - mae: 4.5101 - val_loss: 69.8790 - val_mae: 5.6063\n",
      "Epoch 33/100\n",
      "12/12 [==============================] - 0s 10ms/step - loss: 37.1514 - mae: 4.3874 - val_loss: 75.8730 - val_mae: 5.6317\n",
      "Epoch 34/100\n",
      "12/12 [==============================] - 0s 7ms/step - loss: 37.0006 - mae: 4.3079 - val_loss: 77.0910 - val_mae: 5.6379\n",
      "Epoch 35/100\n",
      "12/12 [==============================] - 0s 10ms/step - loss: 38.5983 - mae: 4.5426 - val_loss: 72.7647 - val_mae: 6.7091\n",
      "Epoch 36/100\n",
      "12/12 [==============================] - 0s 10ms/step - loss: 44.0491 - mae: 4.9288 - val_loss: 85.0087 - val_mae: 5.8111\n",
      "Epoch 37/100\n",
      "12/12 [==============================] - 0s 9ms/step - loss: 35.2405 - mae: 4.1672 - val_loss: 72.0640 - val_mae: 5.4876\n",
      "Epoch 38/100\n",
      "12/12 [==============================] - 0s 9ms/step - loss: 34.9958 - mae: 4.3821 - val_loss: 68.7268 - val_mae: 5.8224\n",
      "Epoch 39/100\n",
      "12/12 [==============================] - 0s 11ms/step - loss: 33.6390 - mae: 4.2619 - val_loss: 95.0935 - val_mae: 6.0887\n",
      "Epoch 40/100\n",
      "12/12 [==============================] - 0s 10ms/step - loss: 39.1947 - mae: 4.5934 - val_loss: 71.6906 - val_mae: 5.3217\n",
      "Epoch 41/100\n",
      "12/12 [==============================] - 0s 7ms/step - loss: 35.5173 - mae: 4.4052 - val_loss: 72.3239 - val_mae: 5.7896\n",
      "Epoch 42/100\n",
      "12/12 [==============================] - 0s 7ms/step - loss: 34.1022 - mae: 4.3387 - val_loss: 83.9666 - val_mae: 5.7957\n",
      "Epoch 43/100\n",
      "12/12 [==============================] - 0s 8ms/step - loss: 30.8828 - mae: 4.0167 - val_loss: 72.0235 - val_mae: 5.3995\n",
      "Epoch 44/100\n",
      "12/12 [==============================] - 0s 8ms/step - loss: 31.9474 - mae: 4.1702 - val_loss: 79.2779 - val_mae: 5.6027\n",
      "Epoch 45/100\n",
      "12/12 [==============================] - 0s 8ms/step - loss: 35.4692 - mae: 4.4594 - val_loss: 87.7013 - val_mae: 5.8895\n",
      "Epoch 46/100\n",
      "12/12 [==============================] - 0s 8ms/step - loss: 34.0198 - mae: 4.3311 - val_loss: 75.8786 - val_mae: 6.6126\n",
      "Epoch 47/100\n",
      "12/12 [==============================] - 0s 9ms/step - loss: 35.3815 - mae: 4.5601 - val_loss: 67.9856 - val_mae: 5.2983\n",
      "Epoch 48/100\n",
      "12/12 [==============================] - 0s 8ms/step - loss: 33.5258 - mae: 4.3377 - val_loss: 85.6016 - val_mae: 5.8039\n",
      "Epoch 49/100\n",
      "12/12 [==============================] - 0s 8ms/step - loss: 30.2093 - mae: 4.0048 - val_loss: 70.0151 - val_mae: 6.2053\n",
      "Epoch 50/100\n",
      "12/12 [==============================] - 0s 9ms/step - loss: 30.7631 - mae: 4.2022 - val_loss: 72.3736 - val_mae: 5.4653\n",
      "Epoch 51/100\n",
      "12/12 [==============================] - 0s 9ms/step - loss: 30.7973 - mae: 4.1445 - val_loss: 76.6171 - val_mae: 5.5069\n",
      "Epoch 52/100\n",
      "12/12 [==============================] - 0s 9ms/step - loss: 28.2884 - mae: 3.8754 - val_loss: 68.4263 - val_mae: 5.4387\n",
      "Epoch 53/100\n",
      "12/12 [==============================] - 0s 9ms/step - loss: 34.8890 - mae: 4.5556 - val_loss: 69.5259 - val_mae: 5.2624\n",
      "Epoch 54/100\n",
      "12/12 [==============================] - 0s 8ms/step - loss: 32.8498 - mae: 4.3435 - val_loss: 81.5566 - val_mae: 5.5991\n",
      "Epoch 55/100\n",
      "12/12 [==============================] - 0s 10ms/step - loss: 30.3213 - mae: 4.1245 - val_loss: 70.2584 - val_mae: 5.1666\n",
      "Epoch 56/100\n",
      "12/12 [==============================] - 0s 10ms/step - loss: 29.1002 - mae: 4.0234 - val_loss: 84.4325 - val_mae: 5.7351\n",
      "Epoch 57/100\n",
      "12/12 [==============================] - 0s 10ms/step - loss: 33.2064 - mae: 4.3062 - val_loss: 72.4804 - val_mae: 5.6430\n",
      "Epoch 58/100\n",
      "12/12 [==============================] - 0s 10ms/step - loss: 28.2107 - mae: 4.0557 - val_loss: 81.0675 - val_mae: 5.5606\n",
      "Epoch 59/100\n",
      "12/12 [==============================] - 0s 10ms/step - loss: 27.1844 - mae: 3.7982 - val_loss: 70.9976 - val_mae: 5.3850\n",
      "Epoch 60/100\n",
      "12/12 [==============================] - 0s 9ms/step - loss: 26.1583 - mae: 3.7678 - val_loss: 69.2987 - val_mae: 5.1275\n",
      "Epoch 61/100\n",
      "12/12 [==============================] - 0s 9ms/step - loss: 26.3111 - mae: 3.7243 - val_loss: 77.8789 - val_mae: 5.4905\n"
     ]
    },
    {
     "name": "stdout",
     "output_type": "stream",
     "text": [
      "Epoch 62/100\n",
      "12/12 [==============================] - 0s 9ms/step - loss: 29.9831 - mae: 4.1129 - val_loss: 67.8145 - val_mae: 5.2160\n",
      "Epoch 63/100\n",
      "12/12 [==============================] - 0s 8ms/step - loss: 27.4891 - mae: 3.9173 - val_loss: 67.1746 - val_mae: 5.2895\n",
      "Epoch 64/100\n",
      "12/12 [==============================] - 0s 9ms/step - loss: 29.9951 - mae: 4.1530 - val_loss: 82.3120 - val_mae: 5.6430\n",
      "Epoch 65/100\n",
      "12/12 [==============================] - 0s 9ms/step - loss: 30.4002 - mae: 4.1116 - val_loss: 71.6364 - val_mae: 5.6477\n",
      "Epoch 66/100\n",
      "12/12 [==============================] - 0s 10ms/step - loss: 26.5220 - mae: 3.7816 - val_loss: 78.0119 - val_mae: 6.1659\n",
      "Epoch 67/100\n",
      "12/12 [==============================] - 0s 9ms/step - loss: 25.2699 - mae: 3.7785 - val_loss: 67.5090 - val_mae: 5.2843\n",
      "Epoch 68/100\n",
      "12/12 [==============================] - 0s 10ms/step - loss: 27.3529 - mae: 3.9765 - val_loss: 90.5600 - val_mae: 5.9201\n",
      "Epoch 69/100\n",
      "12/12 [==============================] - 0s 8ms/step - loss: 35.2812 - mae: 4.5468 - val_loss: 73.3670 - val_mae: 6.5210\n",
      "Epoch 70/100\n",
      "12/12 [==============================] - 0s 7ms/step - loss: 28.5240 - mae: 4.0249 - val_loss: 88.6993 - val_mae: 5.8324\n",
      "Epoch 71/100\n",
      "12/12 [==============================] - 0s 10ms/step - loss: 28.2526 - mae: 3.9953 - val_loss: 70.6548 - val_mae: 5.2848\n",
      "Epoch 72/100\n",
      "12/12 [==============================] - 0s 8ms/step - loss: 24.4900 - mae: 3.6838 - val_loss: 79.8833 - val_mae: 5.5859\n",
      "Epoch 73/100\n",
      "12/12 [==============================] - 0s 9ms/step - loss: 26.4083 - mae: 3.9200 - val_loss: 74.1951 - val_mae: 5.6438\n",
      "Epoch 74/100\n",
      "12/12 [==============================] - 0s 9ms/step - loss: 25.5134 - mae: 3.8624 - val_loss: 68.8870 - val_mae: 4.9984\n",
      "Epoch 75/100\n",
      "12/12 [==============================] - 0s 10ms/step - loss: 25.6411 - mae: 3.8815 - val_loss: 74.7954 - val_mae: 5.2153\n",
      "Epoch 76/100\n",
      "12/12 [==============================] - 0s 8ms/step - loss: 25.1445 - mae: 3.8006 - val_loss: 78.5403 - val_mae: 5.5155\n",
      "Epoch 77/100\n",
      "12/12 [==============================] - 0s 10ms/step - loss: 24.6723 - mae: 3.7427 - val_loss: 89.1528 - val_mae: 5.8717\n",
      "Epoch 78/100\n",
      "12/12 [==============================] - 0s 8ms/step - loss: 24.1586 - mae: 3.5874 - val_loss: 71.8920 - val_mae: 5.3674\n",
      "Epoch 79/100\n",
      "12/12 [==============================] - 0s 9ms/step - loss: 23.9878 - mae: 3.7048 - val_loss: 91.5321 - val_mae: 5.9993\n",
      "Epoch 80/100\n",
      "12/12 [==============================] - 0s 10ms/step - loss: 26.2058 - mae: 3.8996 - val_loss: 70.3544 - val_mae: 5.7733\n",
      "Epoch 81/100\n",
      "12/12 [==============================] - 0s 11ms/step - loss: 27.7974 - mae: 4.0325 - val_loss: 88.6093 - val_mae: 5.7417\n",
      "Epoch 82/100\n",
      "12/12 [==============================] - 0s 11ms/step - loss: 31.2307 - mae: 4.4085 - val_loss: 75.1596 - val_mae: 6.5653\n",
      "Epoch 83/100\n",
      "12/12 [==============================] - 0s 11ms/step - loss: 26.6413 - mae: 4.0190 - val_loss: 88.9646 - val_mae: 5.7496\n",
      "Epoch 84/100\n",
      "12/12 [==============================] - 0s 12ms/step - loss: 27.6654 - mae: 3.9670 - val_loss: 72.8946 - val_mae: 5.9331\n",
      "Epoch 85/100\n",
      "12/12 [==============================] - 0s 10ms/step - loss: 28.3024 - mae: 4.0308 - val_loss: 80.0214 - val_mae: 5.2946\n",
      "Epoch 86/100\n",
      "12/12 [==============================] - 0s 8ms/step - loss: 25.3056 - mae: 3.8094 - val_loss: 68.3770 - val_mae: 5.4895\n",
      "Epoch 87/100\n",
      "12/12 [==============================] - 0s 8ms/step - loss: 23.4293 - mae: 3.5827 - val_loss: 72.0509 - val_mae: 5.2964\n",
      "Epoch 88/100\n",
      "12/12 [==============================] - 0s 9ms/step - loss: 23.2509 - mae: 3.6683 - val_loss: 75.7492 - val_mae: 5.1131\n",
      "Epoch 89/100\n",
      "12/12 [==============================] - 0s 10ms/step - loss: 22.4709 - mae: 3.4305 - val_loss: 70.2959 - val_mae: 5.1271\n",
      "Epoch 90/100\n",
      "12/12 [==============================] - 0s 8ms/step - loss: 22.7959 - mae: 3.5796 - val_loss: 78.7256 - val_mae: 5.1867\n",
      "Epoch 91/100\n",
      "12/12 [==============================] - 0s 9ms/step - loss: 22.6119 - mae: 3.5206 - val_loss: 70.3404 - val_mae: 4.9465\n",
      "Epoch 92/100\n",
      "12/12 [==============================] - 0s 9ms/step - loss: 23.2647 - mae: 3.6462 - val_loss: 73.7619 - val_mae: 5.5220\n",
      "Epoch 93/100\n",
      "12/12 [==============================] - 0s 8ms/step - loss: 24.5473 - mae: 3.7355 - val_loss: 69.3006 - val_mae: 5.4595\n",
      "Epoch 94/100\n",
      "12/12 [==============================] - 0s 9ms/step - loss: 22.3132 - mae: 3.6387 - val_loss: 77.4776 - val_mae: 5.2598\n",
      "Epoch 95/100\n",
      "12/12 [==============================] - 0s 9ms/step - loss: 22.1426 - mae: 3.4422 - val_loss: 71.3569 - val_mae: 5.5417\n",
      "Epoch 96/100\n",
      "12/12 [==============================] - 0s 11ms/step - loss: 23.3868 - mae: 3.5913 - val_loss: 71.9548 - val_mae: 5.0182\n",
      "Epoch 97/100\n",
      "12/12 [==============================] - 0s 9ms/step - loss: 20.6648 - mae: 3.4529 - val_loss: 67.4041 - val_mae: 5.3567\n",
      "Epoch 98/100\n",
      "12/12 [==============================] - 0s 9ms/step - loss: 21.5960 - mae: 3.4663 - val_loss: 78.3208 - val_mae: 5.3455\n",
      "Epoch 99/100\n",
      "12/12 [==============================] - 0s 8ms/step - loss: 20.4622 - mae: 3.3676 - val_loss: 70.9818 - val_mae: 4.9213\n",
      "Epoch 100/100\n",
      "12/12 [==============================] - 0s 7ms/step - loss: 20.0408 - mae: 3.2496 - val_loss: 71.2700 - val_mae: 5.0253\n"
     ]
    }
   ],
   "source": [
    "history = model.fit(X_train, y_train, epochs=100, validation_split=0.05, verbose = 1)"
   ]
  },
  {
   "cell_type": "code",
   "execution_count": 26,
   "metadata": {},
   "outputs": [
    {
     "name": "stdout",
     "output_type": "stream",
     "text": [
      "4/4 [==============================] - 0s 4ms/step - loss: 21.7948 - mae: 3.2882\n",
      "Mean squared error on test data:  21.79482078552246\n",
      "Mean absolute error on test data:  3.288163423538208\n"
     ]
    }
   ],
   "source": [
    "mse_nn, mae_nn = model.evaluate(X_test, y_test)\n",
    "\n",
    "print('Mean squared error on test data: ', mse_nn)\n",
    "print('Mean absolute error on test data: ', mae_nn)"
   ]
  }
 ],
 "metadata": {
  "kernelspec": {
   "display_name": "Python 3 (ipykernel)",
   "language": "python",
   "name": "python3"
  },
  "language_info": {
   "codemirror_mode": {
    "name": "ipython",
    "version": 3
   },
   "file_extension": ".py",
   "mimetype": "text/x-python",
   "name": "python",
   "nbconvert_exporter": "python",
   "pygments_lexer": "ipython3",
   "version": "3.9.13"
  },
  "varInspector": {
   "cols": {
    "lenName": 16,
    "lenType": 16,
    "lenVar": 40
   },
   "kernels_config": {
    "python": {
     "delete_cmd_postfix": "",
     "delete_cmd_prefix": "del ",
     "library": "var_list.py",
     "varRefreshCmd": "print(var_dic_list())"
    },
    "r": {
     "delete_cmd_postfix": ") ",
     "delete_cmd_prefix": "rm(",
     "library": "var_list.r",
     "varRefreshCmd": "cat(var_dic_list()) "
    }
   },
   "types_to_exclude": [
    "module",
    "function",
    "builtin_function_or_method",
    "instance",
    "_Feature"
   ],
   "window_display": false
  }
 },
 "nbformat": 4,
 "nbformat_minor": 4
}
